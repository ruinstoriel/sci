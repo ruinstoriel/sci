{
 "cells": [
  {
   "cell_type": "markdown",
   "id": "9ffdbdf0",
   "metadata": {},
   "source": [
    "### 调参\n",
    "\n",
    "#### 泛化误差\n",
    "\n",
    "泛化误差和模型复杂度的关系类似于  y = x^2. 树类型的模型天生就是高复杂度的模型。\n",
    "\n"
   ]
  }
 ],
 "metadata": {
  "language_info": {
   "name": "python"
  }
 },
 "nbformat": 4,
 "nbformat_minor": 5
}
