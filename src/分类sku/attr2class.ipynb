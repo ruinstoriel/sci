{
 "cells": [
  {
   "cell_type": "code",
   "execution_count": 339,
   "id": "522477ad846cf71f",
   "metadata": {
    "ExecuteTime": {
     "end_time": "2025-01-07T13:14:41.362460Z",
     "start_time": "2025-01-07T13:14:41.345134Z"
    }
   },
   "outputs": [
    {
     "data": {
      "text/plain": [
       "(np.float64(0.000591226831008344),\n",
       " np.float64(0.00024186554835175925),\n",
       " np.float64(3.689923085161966e-05),\n",
       " np.float64(0.02073341825216165))"
      ]
     },
     "execution_count": 339,
     "metadata": {},
     "output_type": "execute_result"
    }
   ],
   "source": [
    "# 预测结果\n",
    "import pandas as pd\n",
    "import numpy as np\n",
    "from collections import Counter\n",
    "\n",
    "from sklearn.multioutput import MultiOutputClassifier\n",
    "from sklearn.tree import DecisionTreeClassifier\n",
    "from sklearn.feature_extraction.text import TfidfVectorizer\n",
    "from sklearn.preprocessing import MultiLabelBinarizer\n",
    "import jieba\n",
    "\n",
    "save = False\n",
    "# 初始化参数\n",
    "df = pd.read_excel('demo.xlsx',sheet_name='demo',usecols=[0,1,2,3])\n",
    "\n",
    "df['code'] = df['code'].apply(lambda x: x.split(','))\n",
    "all_labels = [item for sublist in df['code'] for item in sublist]\n",
    "label_counts = Counter(all_labels)\n",
    "rare_labels = {label for label, count in label_counts.items() if count == 1}\n",
    "# 稀有类别对验证没有任何帮助，直接去除\n",
    "df['code'] = df['code'].apply(lambda x: np.unique( [item for item in x if item not in rare_labels]))\n",
    "# rare_labels,np.unique(df['code'].values)\n",
    "df = df[df['code'].apply(lambda x: len(x)>0)]\n",
    "# 构建特征, 使用l2进行归一化，smooth_idf 方式分母为0\n",
    "tf = TfidfVectorizer(norm=\"l2\",smooth_idf=True)\n",
    "df['feature'] = df[['series', 'type', 'name']].astype(str).apply(' '.join, axis=1)\n",
    "X = tf.fit_transform(df['feature'])\n",
    "mlb = MultiLabelBinarizer()\n",
    "\n",
    "y = mlb.fit_transform(df['code'])\n",
    "\n",
    "# 方差过滤\n",
    "from sklearn.feature_selection import VarianceThreshold\n",
    "\n",
    "X_var = VarianceThreshold().fit_transform(X)\n",
    "\n",
    "\n",
    "# 方差太小，说明特征无效\n",
    "X_pd = pd.DataFrame(X.toarray())\n",
    "X_pd.var().mean(),X_pd.var().median(),X_pd.var().min(),X_pd.var().max()"
   ]
  },
  {
   "cell_type": "code",
   "execution_count": 378,
   "id": "557aff78",
   "metadata": {},
   "outputs": [
    {
     "name": "stderr",
     "output_type": "stream",
     "text": [
      "Building prefix dict from the default dictionary ...\n",
      "Loading model from cache C:\\Users\\ADMINI~1\\AppData\\Local\\Temp\\jieba.cache\n"
     ]
    },
    {
     "name": "stderr",
     "output_type": "stream",
     "text": [
      "Loading model cost 0.508 seconds.\n",
      "Prefix dict has been built successfully.\n"
     ]
    },
    {
     "name": "stdout",
     "output_type": "stream",
     "text": [
      "华 数据线,充电头 华88w双口头g【a+c】【套装】88w快充头+2米华6a线\n",
      "华 数据线,充电头 华88w双口头g【a+c】【套装】88w快充头+1米华6a线\n",
      "华 数据线,充电头 华88w双口头g【a+c】【套装】88w快充头+1.5米华6a线\n",
      "华 数据线,充电头 华100w双口头【a+c】【100w快充头+2米线】\n",
      "华 数据线,充电头 华100w双口头【a+c】【100w快充头+1米线+2米线】\n",
      "华 数据线,充电头 华100w双口头【a+c】【100w快充头+1米线+1.5米线】\n",
      "华 数据线,充电头 华100w双口头【a+c】【100w快充头+1米线】\n",
      "华 数据线,充电头 华100w双口头【a+c】【100w快充头+1.5米线+2米线】\n",
      "华 数据线,充电头 华100w双口头【a+c】【100w快充头+1.5米线】\n",
      "华 充电头 华100w双口头【a+c】【100w快充头单头】\n",
      "华 充电头 华100w双口头g【a+c】【单头】100w快充头\n",
      "华 充电头 华100w双口头【a+c】\n",
      "华 数据线,充电头 华100w双口头g【a+c】【套装】100w快充头+1.5米华6a线\n",
      "华 数据线,充电头 华100w双口头【a+c】+1.5米线\n",
      "华 数据线,充电头 华100w双口头【a+c】+1米线\n",
      "华 数据线,充电头 华100w双口头g【a+c】【套装】100w快充头+1米华6a线\n",
      "华 数据线,充电头 华100w双口头g【a+c】【套装】100w快充头+2米华6a线\n",
      "华 充电头 华双口头【a+c】【66w双口快充头单头】\n",
      "华 充电头 华双口头【a+c】g【66w双口快充头单头】\n",
      "华 充电头 华66w双口头【a+c】g配双c线\n",
      "华 充电头 华66w双口头【a+c】g配双c线【66w双口快充头】\n",
      "华 数据线,充电头 华66w双口头【a+c】g配双c线【66w双口快充头+1.5米线双c线】\n",
      "华 数据线,充电头 华66w双口头【a+c】g配双c线【66w双口头+1.5米线+2米双c线】\n",
      "华 数据线,充电头 华66w双口头【a+c】配双c线【66w双口头+1.5米线+2米双c线】\n",
      "华 数据线,充电头 华66w双口头【a+c】g配双c线【66w双口快充头+1米线双c线】\n",
      "华 数据线,充电头 华66w双口头【a+c】配双c线【66w双口快充头+1米线双c线】\n",
      "华 数据线,充电头 华66w双口头【a+c】g配双c线【66w双口快充头+1米线双c线】 \n",
      "华 数据线,充电头 华66w双口头【a+c】g配双c线【66w双口头+1米线+1.5米双c线】\n",
      "华 数据线,充电头 华66w双口头【a+c】g配双c线【66w双口头+1米线+2米双c线】\n",
      "华 数据线,充电头 华66w双口头【a+c】g配双c线【66w双口快充头+2米线双c线】\n",
      "华 数据线,充电头 华双口头【a+c】【66w双口快充头+1.5米线】\n",
      "华 数据线,充电头 华双口头【a+c】g【66w双口快充头+1.5米线】\n",
      "华 数据线,充电头 华66w双口头g【a+c】【套装】66w快充头+1.5米数据线\n",
      "华 数据线,充电头 华双口头【a+c】【66w双口快充头+1米线】\n",
      "华 数据线,充电头 华双口头【a+c】g【66w双口快充头+1米线】\n",
      "华 数据线,充电头 华66w双口头g【a+c】【套装】66w快充头+1米数据线\n",
      "华 数据线,充电头 华双口头【a+c】【66w双口快充头+2米线】\n",
      "华 数据线,充电头 华双口头【a+c】g【66w双口快充头+2米线】\n",
      "华 数据线,充电头 华66w双口头g【a+c】【套装】66w快充头+2米数据线\n",
      "华 充电头 华双口头【a+c】【88w双口快充头单头】\n",
      "华 充电头 华88w双口头d【a+c】【单头】\n",
      "华 数据线,充电头 华双口头【a+c】【88w双口快充头+1.5米线】\n",
      "华 数据线,充电头 华88w双口头d【a+c】【套装】+1.5米线\n",
      "华 数据线,充电头 华双口头【a+c】【88w双口快充头+1米线】\n",
      "华 数据线,充电头 华88w双口头d【a+c】【套装】+1米线\n",
      "华 数据线,充电头 华双口头【a+c】【88w双口快充头+2米线】\n",
      "华 数据线,充电头 华88w双口头d【a+c】【套装】+2米线\n",
      "华 充电头 华88w双口头g【a+c】【套装】单头】\n",
      "华 充电头 华88w双口头g【a+c】【单头】88w快充头\n",
      "华 充电头 华88w双口头g【a+c】单头】【单头】88w快充头\n",
      "华 充电头 华双口头【a+c】g【88w双口快充头单头】\n",
      "华 充电头 华88双口头【a+c】g单头\n",
      "华 充电头 华88w双口头g【a+c】单头\n",
      "华 数据线,充电头 华双口头【a+c】g【88w双口快充头+1.5米线】\n",
      "华 数据线,充电头 华88w双口头g【a+c】【套装】+1.5米线\n",
      "华 数据线,充电头 华88w双口头g【a+c】单头】【套装】88w快充头+1.5米线\n",
      "华 数据线,充电头 华88w双口头g【a+c】【套装】88w快充头+1.5米线\n",
      "华 数据线,充电头 华88w双口头g【a+c】+1.5米\n",
      "华 数据线,充电头 华88w双口头g【a+c】+1.5米线\n",
      "华 数据线,充电头 华88双口头【a+c】g+1.5米线\n",
      "华 数据线,充电头 华88w双口头g【a+c】单头】【套装】88w快充头+1.5米线 \n",
      "华 数据线,充电头 华88w双口头g【a+c】【套装】+1米线\n",
      "华 数据线,充电头 华88w双口头g【a+c】【套装】88w快充头+1米线\n",
      "华 数据线,充电头 华88w双口头g【a+c】单头】【套装】88w快充头+1米线\n",
      "华 数据线,充电头 华双口头【a+c】g【88w双口快充头+1米线】\n",
      "华 数据线,充电头 华88w双口头g【a+c】+1米线\n",
      "华 数据线,充电头 华88双口头【a+c】g+1米线\n",
      "华 数据线,充电头 华88w双口头g【a+c】单头】【套装】88w快充头+1米线 \n",
      "华 数据线,充电头 华88w双口头g【a+c】【套装】+2米线\n",
      "华 数据线,充电头 华88w双口头g【a+c】【套装】88w快充头+2米线\n",
      "华 数据线,充电头 华88w双口头g【a+c】单头】【套装】88w快充头+2米线\n",
      "华 数据线,充电头 华双口头【a+c】g【88w双口快充头+2米线】\n",
      "华 数据线,充电头 华88w双口头g【a+c】+2米线\n",
      "华 数据线,充电头 华88w双口头g【a+c】单头】【套装】88w快充头+2米线 \n",
      "华 数据线,充电头 华88w双口头g【a+c】【套装】闪充头+1米线\n",
      "['1.5米' '1.8米' '10' '100w' '10a' '10w' '11' '120w' '12a' '12w' '14' '15'\n",
      " '150w' '16' '18w' '1米' '200w' '20w' '22.5w' '240w' '25w' '29w' '2a' '2米'\n",
      " '30w' '33w' '35w' '3星' '3米' '4' '40w' '44w' '45w' '4a' '55w' '5a' '5v2a'\n",
      " '5v4a' '60w' '61w' '65' '65w' '66w' '67w' '6a' '7' '8' '80w' '85w' '87w'\n",
      " '88w' '8a' '90w' '96w' 'a' 'c' 'ctoc' 'ctoc口' 'c口' 'd' 'findx6' 'findx8'\n",
      " 'g' 'h' 'ipad' 'ipadmini' 'iqoo' 'k10' 'k11' 'k11x' 'k20' 'k5' 'k50'\n",
      " 'k60' 'k7' 'k70' 'k80' 'k9' 'l型接口' 'magic6' 'max' 'micro' 'note13'\n",
      " 'note7' 'op' 'pd' 'plus' 'pro' 'r9' 'reno10' 'reno11' 'reno12' 't型接口'\n",
      " 'usb' 'usb口' 'vo' 'x20' 'x70' 'x70t' 'x9' '一体' '一加' '三星' '主推' '充电头' '全兼容'\n",
      " '全系列' '努比亚' '华' '原ic头' '原ic头g' '双' '双口' '双口头' '口' '大壳' '大壳头g' '安卓' '小'\n",
      " '小壳' '小布丁' '小数点' '小白头' '小米' '平板' '弯头' '扁口' '手机' '接口' '搭配' '数据线' '标准版'\n",
      " '梯形' '电源适配器' '白' '白口线' '白头' '白线' '白色' '直头' '笔记本' '紫口线' '红米' '红线' '红色'\n",
      " '绿口线' '编织' '胶囊' '苹果' '荣' '荣max' '蓝标' '足功率' '适用' '金标' '金标头' '金标头g' '金标线'\n",
      " '黄口线' '黑' '黑头' '黑色' '黑鲨']\n"
     ]
    }
   ],
   "source": [
    "# 尝试直接count\n",
    "import jieba\n",
    "import joblib\n",
    "from sklearn.feature_extraction.text import  CountVectorizer\n",
    "# 尝试清理噪音 ,\"\",\"\"\n",
    "stop=[\"-\",\".\",\" \",\"【\", \"】\", \"+\",\"（\",\"）\",\"(\",\")\",\"*\",\",\",\"/\",\"=\",\"|\",\";\",\"以上\",\"如果\",\"邮费\",\"\\t\",\"单条装\",\n",
    "      \"一条\",\"两条装\",\"其他\",\"，\",\"一个\",\"三条\",\"超级\",\"开盖\",\"公对公\",\"不伤机\",\"不含线\",\"2件\",\"4件\",\n",
    "      \"1条装\",\"2条装\",\"1条\",\"2条\",\"3条\",\"条\",\"两条\",\"单条\",\"没有\",\"光速\",\"加长\",\"充电器\",\"显示\",\"是\",\"笔记本电脑\",\"优惠装\",\"搭配装\",\"优惠\",\"链接\",\"同长\",\"默认\",\"爆款\",\"秒\",\"备注\",\"品牌\"\n",
    "      ,\"发\",\"冲头\",\"两\",\"电竞版\",\"请\",\"充电数据线\",\"安卓快充电线\",\"快充电线\",\"充电线\",\"闪充线\",\"闪充数据线\",\"看后面\",\"后面\",\"普通\",\"单个头\",\"快充头\",\"快充线\",\"正品\",\"专用头\",\"专用\"\n",
    "      ,\"2个\",\"1个\",\"3个\",\"2根\",\"3根\",\"6根\",\"单个\",\"单头\",\"闪充头\",\"闪充\",\"快充\",\"秒充\",\"线长\",\"通用\",\"极速\",\"系列\",\"适配器\",\"配\",\"准\",\"系列\",\"单\",\"装\",\"充电\",\"长\",'发2根','发3根'\n",
    "      ,\"加长版\",\"正常\",\"总链接\",\"电线\",\"双引擎\",\"单线\",\"头\",\"秒冲\",\"to\",\"cc\",\"6\",\"6t\",\"5\",\"5t\",\"3\",\"3t\",\"9\",\"1619\",\"a1398\",\"a1424\",'a1181','a1278','a1286','a1343','a1369','a1370'\n",
    " ,'a14','a1425','a1465', 'a1502', 'a1534', 'a1706', 'a1707', 'a1708', 'a1932','e'\n",
    " ,'a1990' ,'a21' ,'a2141', 'a2363', 'a2518','po']\n",
    "\n",
    "synonym = {\"iapd\":\"ipad\",\"编制\":\"编织\",\"华为\":\"华\",\"平果\":\"苹果\",\"viov\":\"vo\",\"vovi\":\"vo\",\"v\":\"vo\",\"v\":\"vo\",\"vooc\":\"vo\",\"vi\":\"vo\"\n",
    "            ,\"120\":\"120w\",\"150\":\"150w\",\"40\":\"40w\",\"45\":\"45w\",\"66\":\"66w\",\"88\":\"88w\",\"88\":\"88w\",\"67\":\"67w\",\"80\":\"80w\",\"90\":\"90w\",\"100\":\"100w\",\"33\":\"33w\"\n",
    "          ,\"oppo\":\"op\",\"绿口\":\"绿口线\",\"紫口\":\"紫口线\",\"白口\":\"白口线\",\"黄口\":\"白口线\",\"黄\":\"白口线\"\n",
    "          ,\"一嘉\":\"一加\",\"转\":\"to\",\"加\":\"一加\",\"mi\":\"小米\",\"米\":\"小米\"\n",
    "          ,\"lightning\":\"扁口\",\"线\":\"数据线\",\"mirco\":\"micro\",\"reno9\":\"r9\"\n",
    "          ,\"tpc口\":\"c口\",\"看后面\":\"后面\",\"米6a线\":\"6a\",\"器\":\"头\",\"套装\":\"头\"\n",
    "          ,\"米6a\":\"6a\",\"高攻\":\"g\",\"高功\":\"g\",\"高\":\"g\",\"sam星\":\"三星\",\"1\":\"1米\",\"2\":\"2米\",\"1.5\":\"1.5米\",\"1..5米\":\"1.5米\"\n",
    "          ,\"华为\":\"华\",\"typec\":\"c\",\"type-c\":\"c\",\"tpc\":\"c\",\"荣耀\":\"荣\"}\n",
    "\n",
    "# jieba.initialize()\n",
    "to = jieba.Tokenizer()\n",
    "\n",
    "to.load_userdict(\"userdict.txt\")\n",
    "to.del_word(\"po65\")\n",
    "def chinese_tokenizer(context):\n",
    "    # 使用正则表达式去除自定义停止词\n",
    "    context = context.lower()\n",
    "    words = to.lcut(context,cut_all=False,HMM=False,use_paddle=True)\n",
    "    # 同义词替换\n",
    "    words = map(lambda x: synonym[x] if x in synonym else x,words)\n",
    "    # 去除停用词\n",
    "    words =  [*filter(lambda x: x not in stop,words)]\n",
    "    if any(word == \"a\" for word in words):\n",
    "        print(context)\n",
    "    return words\n",
    "\n",
    "\n",
    "vectorizer = CountVectorizer(\n",
    "    analyzer=chinese_tokenizer,\n",
    "    token_pattern=None,\n",
    "    lowercase=True,\n",
    "    binary=True\n",
    ")\n",
    "# print(df['feature'].head(5))\n",
    "X = vectorizer.fit_transform(df['feature'])\n",
    "y = mlb.fit_transform(df['code'])\n",
    "if save:\n",
    "    joblib.dump(vectorizer,\"vectorizer.bin\")\n",
    "print(vectorizer.get_feature_names_out())\n",
    "\n",
    "# 方差过滤\n",
    "from sklearn.feature_selection import VarianceThreshold\n",
    "from sklearn.decomposition import PCA\n",
    "\n",
    "\n",
    "X_var = X"
   ]
  },
  {
   "cell_type": "code",
   "execution_count": null,
   "id": "befa97a1",
   "metadata": {},
   "outputs": [
    {
     "name": "stdout",
     "output_type": "stream",
     "text": [
      "(4493, 199)\n"
     ]
    },
    {
     "data": {
      "text/plain": [
       "np.float64(0.9534828354197066)"
      ]
     },
     "execution_count": 299,
     "metadata": {},
     "output_type": "execute_result"
    }
   ],
   "source": [
    "# 预测系列\n",
    "import pandas as pd\n",
    "import numpy as np\n",
    "from collections import Counter\n",
    "\n",
    "from sklearn.multioutput import MultiOutputClassifier\n",
    "from sklearn.tree import DecisionTreeClassifier\n",
    "from sklearn.feature_extraction.text import TfidfVectorizer\n",
    "from sklearn.preprocessing import MultiLabelBinarizer\n",
    "from sklearn.preprocessing import LabelEncoder\n",
    "import joblib\n",
    "from sklearn.model_selection import cross_val_score,StratifiedKFold\n",
    "# 初始化参数\n",
    "series_df = pd.read_excel('demo.xlsx',sheet_name='demo',usecols=[0,2])\n",
    "\n",
    "all_labels = [item for item in series_df['series']]\n",
    "\n",
    "X = vectorizer.fit_transform(series_df['name'])\n",
    "print(X.shape)\n",
    "encoder = LabelEncoder()\n",
    "y = encoder.fit_transform(series_df['series'])\n",
    "series_model = DecisionTreeClassifier(criterion=\"log_loss\",max_depth=10,random_state=42)\n",
    "series_model.fit(X,y)\n",
    "skf = StratifiedKFold(n_splits=5,shuffle=True,random_state=42)\n",
    "if save:\n",
    "    joblib.dump(encoder, \"series_encoder.bin\")\n",
    "    joblib.dump(series_model, \"series_model.bin\")\n",
    "\n",
    "cross_val_score(series_model,X,y,cv=skf,scoring=\"accuracy\").mean()\n"
   ]
  },
  {
   "cell_type": "code",
   "execution_count": null,
   "id": "53c65ee0",
   "metadata": {},
   "outputs": [
    {
     "data": {
      "text/plain": [
       "np.float64(0.8795675052623283)"
      ]
     },
     "execution_count": 300,
     "metadata": {},
     "output_type": "execute_result"
    }
   ],
   "source": [
    "# 预测类型\n",
    "import pandas as pd\n",
    "import numpy as np\n",
    "from collections import Counter\n",
    "\n",
    "from sklearn.multioutput import MultiOutputClassifier\n",
    "from sklearn.tree import DecisionTreeClassifier\n",
    "from sklearn.feature_extraction.text import TfidfVectorizer\n",
    "from sklearn.preprocessing import MultiLabelBinarizer\n",
    "from iterstrat.ml_stratifiers import MultilabelStratifiedKFold\n",
    "from sklearn.model_selection import StratifiedKFold\n",
    "import joblib\n",
    "# 初始化参数\n",
    "type_df = pd.read_excel('demo.xlsx',sheet_name='demo',usecols=[0,3])\n",
    "\n",
    "type_df['type'] = type_df['type'].apply(lambda x: x.split(','))\n",
    "\n",
    "mlb = MultiLabelBinarizer()\n",
    "\n",
    "X = vectorizer.fit_transform(type_df['name'])\n",
    "y = mlb.fit_transform(type_df['type'])\n",
    "type_model = MultiOutputClassifier(DecisionTreeClassifier(criterion=\"log_loss\",max_depth=10,random_state=42))\n",
    "type_model.fit(X,y)\n",
    "if save:\n",
    "    joblib.dump(mlb, \"type_encoder.bin\")\n",
    "    joblib.dump(type_model, \"type_model.bin\")\n",
    "sfk = MultilabelStratifiedKFold(n_splits=5,shuffle=True,random_state=42)\n",
    "cross_val_score(type_model,X,y,cv=sfk,scoring=\"accuracy\").mean()"
   ]
  },
  {
   "cell_type": "code",
   "execution_count": 377,
   "id": "0254e04c",
   "metadata": {},
   "outputs": [
    {
     "name": "stdout",
     "output_type": "stream",
     "text": [
      "(4493, 163)\n",
      "(4493, 77) ['1.5米' '100w' '10w' '120w' '12w' '150w' '1米' '200w' '240w' '25w' '29w'\n",
      " '2米' '30w' '33w' '40w' '44w' '45w' '55w' '5a' '65w' '66w' '67w' '6a'\n",
      " '80w' '88w' '90w' 'a' 'c' 'ctoc口' 'c口' 'd' 'g' 'l型接口' 'max' 'op' 'pd'\n",
      " 'pro' 'r9' 't型接口' 'usb' 'vo' '一加' '三星' '主推' '充电头' '全兼容' '努比亚' '华' '原ic头'\n",
      " '原ic头g' '双' '双口' '双口头' '大壳' '大壳头g' '安卓' '小布丁' '小米' '弯头' '数据线' '梯形' '白'\n",
      " '白口线' '白色' '笔记本' '紫口线' '红线' '绿口线' '编织' '胶囊' '苹果' '荣' '荣max' '金标' '金标头'\n",
      " '金标线' '黄口线']\n"
     ]
    }
   ],
   "source": [
    "# 尝试嵌入法，下过变差了，threshold=0.0005 差不多，不能过大，缩减到96个特征  1/219 ,每个特征的重要性大概 0.005\n",
    "from sklearn.feature_selection import VarianceThreshold\n",
    "from sklearn.feature_selection import SelectFromModel\n",
    "\n",
    "from sklearn.tree import DecisionTreeClassifier\n",
    "print(X_var.shape)\n",
    "embedded_mode = SelectFromModel(DecisionTreeClassifier(criterion=\"entropy\",random_state=42), threshold=0.0005)\n",
    "embedded_mode.fit(X_var,y)\n",
    "X_embedded = embedded_mode.transform(X_var)\n",
    "print(X_embedded.shape,vectorizer.get_feature_names_out()[embedded_mode.get_support()])\n",
    "\n",
    "# X_embedded = VarianceThreshold().fit_transform(X_embedded)\n",
    "\n",
    "\n",
    "# 方差虽然变大了，但是特征少了\n",
    "# X_pd = pd.DataFrame(X_embedded.toarray())\n",
    "# X_pd.var().mean(),X_pd.var().median(),X_pd.var().min(),X_pd.var().max(),X_pd"
   ]
  },
  {
   "cell_type": "code",
   "execution_count": 396,
   "id": "1786e20c",
   "metadata": {},
   "outputs": [
    {
     "data": {
      "text/plain": [
       "np.float64(0.8780529242292022)"
      ]
     },
     "execution_count": 396,
     "metadata": {},
     "output_type": "execute_result"
    }
   ],
   "source": [
    "# 交叉验证\n",
    "from sklearn.multioutput import MultiOutputClassifier\n",
    "from iterstrat.ml_stratifiers import MultilabelStratifiedKFold\n",
    "from sklearn.model_selection import cross_val_score,KFold\n",
    "from sklearn.tree import DecisionTreeClassifier,ExtraTreeClassifier\n",
    "from sklearn.preprocessing import MultiLabelBinarizer\n",
    "from sklearn.neighbors import KNeighborsClassifier\n",
    "from sklearn.pipeline import Pipeline\n",
    "from sklearn.ensemble import RandomForestClassifier,ExtraTreesClassifier\n",
    "from sklearn.naive_bayes import MultinomialNB\n",
    "from sklearn.svm import SVC\n",
    "\n",
    "\n",
    "\n",
    "\n",
    "# 假设你有 X (特征), y (标签)\n",
    "skf = MultilabelStratifiedKFold(n_splits=5,shuffle=True,random_state=42)\n",
    "\n",
    "md = MultiOutputClassifier(DecisionTreeClassifier(criterion=\"log_loss\",max_depth=12,random_state=42,splitter=\"best\",min_samples_split=2,min_samples_leaf=1))\n",
    "if save:\n",
    "    joblib.dump(embedded_mode, \"embedded_model.bin\")    \n",
    "    # X_embedded  X_var\n",
    "    print(X_embedded.shape)\n",
    "    md.fit(X_embedded,y)\n",
    "    joblib.dump(md, \"model.bin\")\n",
    "    joblib.dump(mlb, \"encoder.bin\")\n",
    "# 使用 cross_val_score 并指定 scoring 参数 X_embedded X_var\n",
    "cross_val_score(md,X_embedded,y,cv=skf,scoring=\"accuracy\").mean()"
   ]
  },
  {
   "cell_type": "code",
   "execution_count": 337,
   "id": "f54bf02b",
   "metadata": {},
   "outputs": [
    {
     "name": "stdout",
     "output_type": "stream",
     "text": [
      "(1, 199)\n",
      "(1, 77)\n"
     ]
    }
   ],
   "source": [
    "# 使用模型\n",
    "from sklearn.multioutput import MultiOutputClassifier\n",
    "from iterstrat.ml_stratifiers import MultilabelStratifiedKFold\n",
    "from sklearn.model_selection import cross_val_score,KFold\n",
    "from sklearn.tree import DecisionTreeClassifier,ExtraTreeClassifier\n",
    "from sklearn.preprocessing import MultiLabelBinarizer\n",
    "from sklearn.neighbors import KNeighborsClassifier\n",
    "from sklearn.pipeline import Pipeline\n",
    "from sklearn.ensemble import RandomForestClassifier,ExtraTreesClassifier\n",
    "from sklearn.naive_bayes import MultinomialNB\n",
    "from sklearn.svm import SVC\n",
    "import joblib\n",
    "# 假设你有 X (特征), y (标签)\n",
    "skf = MultilabelStratifiedKFold(n_splits=5)\n",
    "\n",
    "md = MultiOutputClassifier(DecisionTreeClassifier(criterion=\"log_loss\",max_depth=10,splitter=\"best\"))\n",
    "\n",
    "demo_df = pd.read_excel(\"D:/work/采购/现实仓库/demo_.xlsx\",usecols=[\"商品简称\"])\n",
    "demo_df[\"商品简称\"] = demo_df[\"商品简称\"].str.replace(\"\\t\",\"\")\n",
    "# 使用商品简称预测 系列\n",
    "series_model = joblib.load(\"series_model.bin\")\n",
    "X_input = vectorizer.transform(demo_df[\"商品简称\"])\n",
    "n_pred = series_model.predict(X_input)\n",
    "encoder = joblib.load(\"series_encoder.bin\")\n",
    "predicted_codes = encoder.inverse_transform(n_pred)\n",
    "demo_df['series'] = predicted_codes\n",
    "\n",
    "# 预测 类型\n",
    "type_model = joblib.load(\"type_model.bin\")\n",
    "X_input = vectorizer.transform(demo_df[\"商品简称\"])\n",
    "n_pred = type_model.predict(X_input)\n",
    "encoder = joblib.load(\"type_encoder.bin\")\n",
    "predicted_codes = encoder.inverse_transform(n_pred)\n",
    "re = []\n",
    "for code in predicted_codes:\n",
    "    s = \",\".join(code)\n",
    "    re.append(s)\n",
    "demo_df['type'] = re\n",
    "demo_df['feature'] = demo_df[['series', 'type', '商品简称']].astype(str).apply(' '.join, axis=1)\n",
    "md.fit(X_var,y)\n",
    "\n",
    "X_input = vectorizer.transform(demo_df[\"feature\"].values.ravel())\n",
    "print(X_input.shape)\n",
    "embedded_model = joblib.load(\"embedded_model.bin\")\n",
    "\n",
    "X_embedded_use = X_input[:,embedded_mode.get_support()]\n",
    "print(X_embedded_use.shape)\n",
    "model = joblib.load(\"model.bin\")\n",
    "n_pred = model.predict(X_embedded_use)\n",
    "encoder = joblib.load(\"encoder.bin\")\n",
    "predicted_codes = encoder.inverse_transform(n_pred)\n",
    "re = []\n",
    "for code in predicted_codes:\n",
    "    s = \",\".join(code)\n",
    "    re.append(s)\n",
    "demo_df['预测结果'] = re\n",
    "demo_df.to_excel(\"D:/work/采购/现实仓库/demo_.xlsx\")\n"
   ]
  },
  {
   "cell_type": "code",
   "execution_count": 208,
   "id": "80675833",
   "metadata": {},
   "outputs": [],
   "source": [
    "# 尝试包装法\n",
    "# 包装法 , 逻辑回归优先使用嵌入法，svm 优先使用包装法\n",
    "from sklearn.feature_selection import RFE\n",
    "from sklearn.tree import DecisionTreeClassifier\n",
    "from sklearn.model_selection import cross_val_score\n",
    "\n",
    "rfc = DecisionTreeClassifier(criterion=\"entropy\",random_state=42)\n",
    "rfe = RFE(rfc, n_features_to_select=80)\n",
    "X_rfe = rfe.fit_transform(X, y)"
   ]
  },
  {
   "cell_type": "code",
   "execution_count": 16,
   "id": "b305e158",
   "metadata": {},
   "outputs": [
    {
     "data": {
      "text/plain": [
       "[(np.str_('华66w双口头【A+C】-25w'), np.str_('华6a线-1米'))]"
      ]
     },
     "execution_count": 16,
     "metadata": {},
     "output_type": "execute_result"
    }
   ],
   "source": [
    "# 尝试结果\n",
    "from sklearn.multioutput import MultiOutputClassifier\n",
    "from iterstrat.ml_stratifiers import MultilabelStratifiedKFold\n",
    "from sklearn.model_selection import cross_val_score,KFold\n",
    "from sklearn.tree import DecisionTreeClassifier,ExtraTreeClassifier\n",
    "from sklearn.preprocessing import MultiLabelBinarizer\n",
    "from sklearn.neighbors import KNeighborsClassifier\n",
    "from sklearn.pipeline import Pipeline\n",
    "from sklearn.ensemble import RandomForestClassifier,ExtraTreesClassifier\n",
    "from sklearn.naive_bayes import MultinomialNB\n",
    "from sklearn.svm import SVC\n",
    "# 假设你有 X (特征), y (标签)\n",
    "skf = MultilabelStratifiedKFold(n_splits=5)\n",
    "\n",
    "md = MultiOutputClassifier(RandomForestClassifier(n_estimators=10,criterion=\"entropy\"))\n",
    "\n",
    "\n",
    "md.fit(X_var,y)\n",
    "\n",
    "X_input = vectorizer.transform([\"华66双口头【66W快充头+1米线】\"])\n",
    "n_pred = md.predict(X_input)\n",
    "predicted_codes = mlb.inverse_transform(n_pred)\n",
    "predicted_codes\n"
   ]
  },
  {
   "cell_type": "code",
   "execution_count": null,
   "id": "751b34f7",
   "metadata": {},
   "outputs": [
    {
     "name": "stdout",
     "output_type": "stream",
     "text": [
      "(4493, 77)\n"
     ]
    },
    {
     "data": {
      "text/plain": [
       "['encoder.bin']"
      ]
     },
     "execution_count": 336,
     "metadata": {},
     "output_type": "execute_result"
    }
   ],
   "source": [
    "# 持久化\n",
    "from sklearn.multioutput import MultiOutputClassifier\n",
    "from iterstrat.ml_stratifiers import MultilabelStratifiedKFold\n",
    "from sklearn.model_selection import cross_val_score,KFold\n",
    "from sklearn.tree import DecisionTreeClassifier,ExtraTreeClassifier\n",
    "from sklearn.preprocessing import MultiLabelBinarizer\n",
    "from sklearn.neighbors import KNeighborsClassifier\n",
    "from sklearn.pipeline import Pipeline\n",
    "from sklearn.ensemble import RandomForestClassifier,ExtraTreesClassifier\n",
    "from sklearn.naive_bayes import MultinomialNB\n",
    "from sklearn.svm import SVC\n",
    "import joblib\n",
    "# 假设你有 X (特征), y (标签)\n",
    "skf = MultilabelStratifiedKFold(n_splits=5)\n",
    "\n",
    "md = MultiOutputClassifier(DecisionTreeClassifier(criterion=\"log_loss\",max_depth=10))\n",
    "\n",
    "\n",
    "\n",
    "\n"
   ]
  },
  {
   "cell_type": "code",
   "execution_count": null,
   "id": "c9a02ddc",
   "metadata": {},
   "outputs": [
    {
     "name": "stdout",
     "output_type": "stream",
     "text": [
      "(1, 242)\n",
      "(1, 81)\n"
     ]
    },
    {
     "data": {
      "text/plain": [
       "[(np.str_('华66w双口头【A+C】-25w'), np.str_('华6a线-1米'))]"
      ]
     },
     "execution_count": 522,
     "metadata": {},
     "output_type": "execute_result"
    }
   ],
   "source": [
    "import joblib\n",
    "md = joblib.load(\"model.bin\")\n",
    "X_input = vectorizer.transform([\"华 充电头 数据线 华双口66w 充电头+1米线\"])\n",
    "print(X_input.shape)\n",
    "X_input = X_input[:,embedded_mode.get_support()]\n",
    "print(X_input.shape)\n",
    "n_pred = md.predict(X_input)\n",
    "predicted_codes = mlb.inverse_transform(n_pred)\n",
    "predicted_codes"
   ]
  }
 ],
 "metadata": {
  "kernelspec": {
   "display_name": "p",
   "language": "python",
   "name": "python3"
  },
  "language_info": {
   "codemirror_mode": {
    "name": "ipython",
    "version": 3
   },
   "file_extension": ".py",
   "mimetype": "text/x-python",
   "name": "python",
   "nbconvert_exporter": "python",
   "pygments_lexer": "ipython3",
   "version": "3.12.9"
  }
 },
 "nbformat": 4,
 "nbformat_minor": 5
}
