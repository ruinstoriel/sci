{
 "cells": [
  {
   "cell_type": "markdown",
   "id": "f59af9d1",
   "metadata": {},
   "source": [
    "无量纲化\n",
    "中心化(zero-centerd)\n",
    "当数据按照最小值中性化后，在按极差缩放，数据移动了最小值单位，收敛到[0,1] 之间，这个过程叫归一化"
   ]
  },
  {
   "cell_type": "code",
   "execution_count": 1,
   "id": "edb42280",
   "metadata": {},
   "outputs": [
    {
     "data": {
      "text/plain": [
       "(array([[0.  , 0.  ],\n",
       "        [0.25, 0.25],\n",
       "        [0.5 , 0.5 ],\n",
       "        [1.  , 1.  ]]),\n",
       " np.float64(0.2785430072655778))"
      ]
     },
     "execution_count": 1,
     "metadata": {},
     "output_type": "execute_result"
    }
   ],
   "source": [
    "# 归一化\n",
    "from sklearn.preprocessing import MinMaxScaler\n",
    "import pandas as pd\n",
    "import numpy as np\n",
    "data = [[-1.0, 2.0], [-0.5, 6.0], [0.0, 10.0], [1.0, 18.0]]\n",
    "pd.DataFrame(data)\n",
    "scaler = MinMaxScaler()\n",
    "# 归一化到[0,1]区间, 数据太大使用partition_fit_transform\n",
    "data_s = scaler.fit_transform(data)\n",
    "\n",
    "\n",
    "# 第2列的2范数\n",
    "data = np.array(data)\n",
    "n = np.linalg.norm(data[:, 1], ord=2)\n",
    "data_s,6/n\n"
   ]
  },
  {
   "cell_type": "code",
   "execution_count": 13,
   "id": "9f02aaad",
   "metadata": {},
   "outputs": [
    {
     "data": {
      "text/plain": [
       "array([[-1.18321596, -1.18321596],\n",
       "       [-0.50709255, -0.50709255],\n",
       "       [ 0.16903085,  0.16903085],\n",
       "       [ 1.52127766,  1.52127766]])"
      ]
     },
     "execution_count": 13,
     "metadata": {},
     "output_type": "execute_result"
    }
   ],
   "source": [
    "# 标准化\n",
    "from sklearn.preprocessing import StandardScaler\n",
    "import pandas as pd\n",
    "import numpy as np\n",
    "data = [[-1.0, 2.0], [-0.5, 6.0], [0.0, 10.0], [1.0, 18.0]]\n",
    "scaler = StandardScaler()\n",
    "# 标准化到均值为0，方差为1\n",
    "data_s = scaler.fit_transform(data)\n",
    "scaler.mean_, scaler.var_\n",
    "data_s"
   ]
  },
  {
   "cell_type": "markdown",
   "id": "7149fb43",
   "metadata": {},
   "source": []
  },
  {
   "cell_type": "code",
   "execution_count": 4,
   "id": "0ea41635",
   "metadata": {},
   "outputs": [
    {
     "data": {
      "text/plain": [
       "array(['blue', 'green', 'red'], dtype=object)"
      ]
     },
     "execution_count": 4,
     "metadata": {},
     "output_type": "execute_result"
    }
   ],
   "source": [
    "from sklearn.preprocessing import LabelEncoder\n",
    "import pandas as pd\n",
    "import numpy as np\n",
    "\n",
    "data = pd.DataFrame({'color': ['red', 'blue', 'green', 'blue', 'red']})\n",
    "data['color'] = data['color'].astype('category')\n",
    "encoder = LabelEncoder()\n",
    "data['color'] = encoder.fit_transform(data['color'])\n",
    "encoder.classes_"
   ]
  },
  {
   "cell_type": "code",
   "execution_count": null,
   "id": "d6fc8600",
   "metadata": {},
   "outputs": [
    {
     "ename": "AttributeError",
     "evalue": "'OneHotEncoder' object has no attribute 'get_feature_names'",
     "output_type": "error",
     "traceback": [
      "\u001b[31m---------------------------------------------------------------------------\u001b[39m",
      "\u001b[31mAttributeError\u001b[39m                            Traceback (most recent call last)",
      "\u001b[36mCell\u001b[39m\u001b[36m \u001b[39m\u001b[32mIn[10]\u001b[39m\u001b[32m, line 9\u001b[39m\n\u001b[32m      7\u001b[39m data = pd.DataFrame({\u001b[33m'\u001b[39m\u001b[33mcolor\u001b[39m\u001b[33m'\u001b[39m: [\u001b[33m'\u001b[39m\u001b[33mred\u001b[39m\u001b[33m'\u001b[39m, \u001b[33m'\u001b[39m\u001b[33mblue\u001b[39m\u001b[33m'\u001b[39m, \u001b[33m'\u001b[39m\u001b[33mgreen\u001b[39m\u001b[33m'\u001b[39m, \u001b[33m'\u001b[39m\u001b[33mblue\u001b[39m\u001b[33m'\u001b[39m, \u001b[33m'\u001b[39m\u001b[33mred\u001b[39m\u001b[33m'\u001b[39m]})\n\u001b[32m      8\u001b[39m enc = OneHotEncoder(categories=\u001b[33m\"\u001b[39m\u001b[33mauto\u001b[39m\u001b[33m\"\u001b[39m).fit(data[[\u001b[33m'\u001b[39m\u001b[33mcolor\u001b[39m\u001b[33m'\u001b[39m]])\n\u001b[32m----> \u001b[39m\u001b[32m9\u001b[39m \u001b[43menc\u001b[49m\u001b[43m.\u001b[49m\u001b[43mget_feature_names\u001b[49m()\n\u001b[32m     10\u001b[39m result = enc.transform(data[[\u001b[33m'\u001b[39m\u001b[33mcolor\u001b[39m\u001b[33m'\u001b[39m]])\n\u001b[32m     11\u001b[39m result.toarray()\n",
      "\u001b[31mAttributeError\u001b[39m: 'OneHotEncoder' object has no attribute 'get_feature_names'"
     ]
    }
   ],
   "source": [
    "# 很多时候，特征中的值，并不具备大小关系，所以使用独热编码更加准确\n",
    "from sklearn.preprocessing import OneHotEncoder\n",
    "\n",
    "import pandas as pd\n",
    "import numpy as np\n",
    "\n",
    "data = pd.DataFrame({'color': ['red', 'blue', 'green', 'blue', 'red']})\n",
    "enc = OneHotEncoder(categories=\"auto\").fit(data[['color']])\n",
    "\n",
    "result = enc.transform(data[['color']])\n",
    "result.toarray()\n"
   ]
  },
  {
   "cell_type": "code",
   "execution_count": null,
   "id": "9925ddb5",
   "metadata": {},
   "outputs": [
    {
     "data": {
      "text/plain": [
       "array([[0., 1.],\n",
       "       [0., 1.],\n",
       "       [0., 1.],\n",
       "       [1., 1.]])"
      ]
     },
     "execution_count": 1,
     "metadata": {},
     "output_type": "execute_result"
    }
   ],
   "source": [
    "# 二值化， 处理特征\n",
    "from sklearn.preprocessing import Binarizer\n",
    "import pandas as pd\n",
    "import numpy as np\n",
    "data = [[-1.0, 2.0], [-0.5, 6.0], [0.0, 10.0], [1.0, 18.0]]\n",
    "# 大于为1，小于为0\n",
    "scaler = Binarizer(threshold=0.5)\n",
    "# 二值化\n",
    "data_s = scaler.fit_transform(data)\n",
    "data_s"
   ]
  },
  {
   "cell_type": "code",
   "execution_count": 6,
   "id": "8bcb5752",
   "metadata": {},
   "outputs": [
    {
     "data": {
      "text/plain": [
       "(array([[1., 0., 0., 1., 0., 0.],\n",
       "        [1., 0., 0., 1., 0., 0.],\n",
       "        [0., 1., 0., 0., 1., 0.],\n",
       "        [0., 0., 1., 0., 0., 1.]]),\n",
       " array([3, 3]),\n",
       " array([array([-1.        , -0.33333333,  0.33333333,  1.        ]),\n",
       "        array([ 2.        ,  7.33333333, 12.66666667, 18.        ])],\n",
       "       dtype=object))"
      ]
     },
     "execution_count": 6,
     "metadata": {},
     "output_type": "execute_result"
    }
   ],
   "source": [
    "# 分箱，处理特征，将数据分为几个段，返回段的索引\n",
    "from sklearn.preprocessing import KBinsDiscretizer\n",
    "import pandas as pd\n",
    "import numpy as np\n",
    "data = [[-1.0, 2.0], [-0.5, 6.0], [0.0, 10.0], [1.0, 18.0]]\n",
    "# 分成3个箱子，使用均匀分布\n",
    "scaler = KBinsDiscretizer(n_bins=3, encode='onehot', strategy='uniform')\n",
    "# 分箱\n",
    "data_s = scaler.fit_transform(data)\n",
    "data_s.toarray(), scaler.n_bins_, scaler.bin_edges_"
   ]
  }
 ],
 "metadata": {
  "kernelspec": {
   "display_name": "s",
   "language": "python",
   "name": "python3"
  },
  "language_info": {
   "codemirror_mode": {
    "name": "ipython",
    "version": 3
   },
   "file_extension": ".py",
   "mimetype": "text/x-python",
   "name": "python",
   "nbconvert_exporter": "python",
   "pygments_lexer": "ipython3",
   "version": "3.12.9"
  }
 },
 "nbformat": 4,
 "nbformat_minor": 5
}
